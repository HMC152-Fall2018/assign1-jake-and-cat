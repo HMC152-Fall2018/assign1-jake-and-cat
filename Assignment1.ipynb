{
 "cells": [
  {
   "cell_type": "code",
   "execution_count": 3,
   "metadata": {},
   "outputs": [],
   "source": [
    "# Put these at the top of every notebook, to get automatic reloading and inline plotting\n",
    "%reload_ext autoreload\n",
    "%autoreload 2\n",
    "%matplotlib inline"
   ]
  },
  {
   "cell_type": "markdown",
   "metadata": {},
   "source": [
    "## Using Neural Network for Dog Breed Identification\n",
    "\n",
    "#### Jake Williams and Cat Ngo"
   ]
  },
  {
   "cell_type": "code",
   "execution_count": 2,
   "metadata": {},
   "outputs": [
    {
     "name": "stderr",
     "output_type": "stream",
     "text": [
      "/home/jlwilliams/.local/lib/python3.6/site-packages/sklearn/ensemble/weight_boosting.py:29: DeprecationWarning: numpy.core.umath_tests is an internal NumPy module and should not be imported. It will be removed in a future NumPy release.\n",
      "  from numpy.core.umath_tests import inner1d\n"
     ]
    }
   ],
   "source": [
    "# This file contains all the main external libs we'll use\n",
    "from fastai.imports import *"
   ]
  },
  {
   "cell_type": "markdown",
   "metadata": {},
   "source": [
    "Importing fast ai libraries."
   ]
  },
  {
   "cell_type": "code",
   "execution_count": 4,
   "metadata": {},
   "outputs": [],
   "source": [
    "from fastai.transforms import *\n",
    "from fastai.conv_learner import *\n",
    "from fastai.model import *\n",
    "from fastai.dataset import *\n",
    "from fastai.sgdr import *\n",
    "from fastai.plots import *"
   ]
  },
  {
   "cell_type": "markdown",
   "metadata": {},
   "source": [
    "Creating PATH to access data."
   ]
  },
  {
   "cell_type": "code",
   "execution_count": 1,
   "metadata": {},
   "outputs": [],
   "source": [
    "PATH = \"../../data/dogbreeds/\"\n",
    "sz=224"
   ]
  },
  {
   "cell_type": "markdown",
   "metadata": {},
   "source": [
    "Verifying GPU setup."
   ]
  },
  {
   "cell_type": "code",
   "execution_count": 5,
   "metadata": {},
   "outputs": [
    {
     "data": {
      "text/plain": [
       "True"
      ]
     },
     "execution_count": 5,
     "metadata": {},
     "output_type": "execute_result"
    }
   ],
   "source": [
    "torch.cuda.is_available()"
   ]
  },
  {
   "cell_type": "code",
   "execution_count": 6,
   "metadata": {},
   "outputs": [
    {
     "data": {
      "text/plain": [
       "True"
      ]
     },
     "execution_count": 6,
     "metadata": {},
     "output_type": "execute_result"
    }
   ],
   "source": [
    "torch.backends.cudnn.enabled"
   ]
  },
  {
   "cell_type": "markdown",
   "metadata": {},
   "source": [
    "### Downloading data and setting up directory structure"
   ]
  },
  {
   "cell_type": "code",
   "execution_count": 22,
   "metadata": {},
   "outputs": [],
   "source": [
    "cd data"
   ]
  },
  {
   "cell_type": "code",
   "execution_count": 23,
   "metadata": {},
   "outputs": [
    {
     "name": "stdout",
     "output_type": "stream",
     "text": [
      "\u001b[0m\u001b[01;34mdogbreeds\u001b[0m/  \u001b[01;34mdogscats\u001b[0m/\n"
     ]
    }
   ],
   "source": [
    "mkdir dogbreeds"
   ]
  },
  {
   "cell_type": "code",
   "execution_count": 43,
   "metadata": {},
   "outputs": [
    {
     "name": "stdout",
     "output_type": "stream",
     "text": [
      "/home/jlwilliams\n"
     ]
    }
   ],
   "source": [
    "cd .."
   ]
  },
  {
   "cell_type": "code",
   "execution_count": 78,
   "metadata": {},
   "outputs": [
    {
     "name": "stdout",
     "output_type": "stream",
     "text": [
      "env: KAGGLE_USERNAME=topspinjake #set up the Kaggle API in the enivironmnet\n"
     ]
    }
   ],
   "source": [
    "%env KAGGLE_USERNAME=topspinjake #set up the Kaggle API in the enivironmnet"
   ]
  },
  {
   "cell_type": "code",
   "execution_count": 40,
   "metadata": {},
   "outputs": [
    {
     "name": "stdout",
     "output_type": "stream",
     "text": [
      "env: KAGGLE_KEY=ceac84d7c57e2aef8b4f562d79e94ddb\n"
     ]
    }
   ],
   "source": [
    "%env KAGGLE_KEY=ceac84d7c57e2aef8b4f562d79e94ddb"
   ]
  },
  {
   "cell_type": "code",
   "execution_count": 52,
   "metadata": {},
   "outputs": [
    {
     "name": "stdout",
     "output_type": "stream",
     "text": [
      "Downloading labels.csv.zip to /home/jlwilliams/data/dogbreeds\n",
      "  0%|                                                | 0.00/214k [00:00<?, ?B/s]\n",
      "100%|████████████████████████████████████████| 214k/214k [00:00<00:00, 86.7MB/s]\n",
      "Downloading sample_submission.csv.zip to /home/jlwilliams/data/dogbreeds\n",
      "  0%|                                                | 0.00/318k [00:00<?, ?B/s]\n",
      "100%|█████████████████████████████████████████| 318k/318k [00:00<00:00, 101MB/s]\n",
      "Downloading test.zip to /home/jlwilliams/data/dogbreeds\n",
      " 95%|██████████████████████████████████████▉  | 329M/346M [00:01<00:00, 224MB/s]\n",
      "100%|█████████████████████████████████████████| 346M/346M [00:01<00:00, 216MB/s]\n",
      "Downloading train.zip to /home/jlwilliams/data/dogbreeds\n",
      " 94%|██████████████████████████████████████▋  | 325M/345M [00:01<00:00, 210MB/s]\n",
      "100%|█████████████████████████████████████████| 345M/345M [00:01<00:00, 224MB/s]\n"
     ]
    }
   ],
   "source": [
    "!kaggle competitions download -c dog-breed-identification #download"
   ]
  },
  {
   "cell_type": "markdown",
   "metadata": {},
   "source": [
    "Unzipping the files"
   ]
  },
  {
   "cell_type": "code",
   "execution_count": 56,
   "metadata": {},
   "outputs": [
    {
     "name": "stdout",
     "output_type": "stream",
     "text": [
      "Archive:  labels.csv.zip\n",
      "  inflating: labels.csv              \n"
     ]
    }
   ],
   "source": [
    "!unzip labels.csv.zip"
   ]
  },
  {
   "cell_type": "code",
   "execution_count": null,
   "metadata": {},
   "outputs": [],
   "source": [
    "!unzip sample_submission.csv.zip\n",
    "!unzip test.zip\n",
    "!unzip train.zip"
   ]
  },
  {
   "cell_type": "code",
   "execution_count": null,
   "metadata": {},
   "outputs": [],
   "source": [
    "rm *.zip #remove zip files"
   ]
  },
  {
   "cell_type": "code",
   "execution_count": 79,
   "metadata": {},
   "outputs": [
    {
     "data": {
      "text/plain": [
       "['train',\n",
       " 'sample_submission.csv',\n",
       " 'labels.csv',\n",
       " 'valid',\n",
       " 'tmp',\n",
       " 'models',\n",
       " '.ipynb_checkpoints',\n",
       " 'test']"
      ]
     },
     "execution_count": 79,
     "metadata": {},
     "output_type": "execute_result"
    }
   ],
   "source": [
    "os.listdir(PATH)"
   ]
  },
  {
   "cell_type": "markdown",
   "metadata": {},
   "source": [
    "**Start separating training data into 120 directories, using csv tools**"
   ]
  },
  {
   "cell_type": "code",
   "execution_count": 16,
   "metadata": {},
   "outputs": [],
   "source": [
    "import csv\n",
    "\n",
    "datafile = open(\"labels.csv\",\"r\")\n",
    "dataread = csv.reader(datafile, delimiter=';')\n",
    "data = []\n",
    "for row in dataread: #create list of list from csv file\n",
    "    data.append(row) "
   ]
  },
  {
   "cell_type": "code",
   "execution_count": 97,
   "metadata": {},
   "outputs": [
    {
     "data": {
      "text/plain": [
       "'000bec180eb18c7604dcecc8fe0dba07'"
      ]
     },
     "execution_count": 97,
     "metadata": {},
     "output_type": "execute_result"
    }
   ],
   "source": [
    "data[1][0][0:32] #find correct index to get file name"
   ]
  },
  {
   "cell_type": "code",
   "execution_count": 17,
   "metadata": {},
   "outputs": [],
   "source": [
    "bigDict = {} #create dictionary with keys as dog breed\n",
    "            # value of each key will be a list that contains the photo id of the breed\n",
    "for entry in data[1:]:\n",
    "    imageid = entry[0][0:32] #take image id\n",
    "    temp_key = entry[0][33:]\n",
    "    if temp_key in bigDict.keys(): #add id to dictionary if key exists\n",
    "        bigDict[temp_key].append(imageid)\n",
    "    else: # if not create new list of keys\n",
    "        bigDict[temp_key]= [imageid]"
   ]
  },
  {
   "cell_type": "code",
   "execution_count": 16,
   "metadata": {},
   "outputs": [
    {
     "data": {
      "text/plain": [
       "120"
      ]
     },
     "execution_count": 16,
     "metadata": {},
     "output_type": "execute_result"
    }
   ],
   "source": [
    "len(bigDict.keys()) #sanity check"
   ]
  },
  {
   "cell_type": "code",
   "execution_count": null,
   "metadata": {},
   "outputs": [],
   "source": [
    "!mkdir valid # make validation set"
   ]
  },
  {
   "cell_type": "markdown",
   "metadata": {},
   "source": [
    "**Create 120 directories in train and valid set**"
   ]
  },
  {
   "cell_type": "code",
   "execution_count": 115,
   "metadata": {},
   "outputs": [],
   "source": [
    "import os\n",
    "\n",
    "for key in bigDict.keys(): \n",
    "    directory = \"../../data/dogbreeds/valid/\" + str(key)\n",
    "    if not os.path.exists(directory):\n",
    "        os.makedirs(directory)\n",
    "        \n",
    "for key in bigDict.keys(): \n",
    "    directory = \"../../data/dogbreeds/train/\" + str(key)\n",
    "    if not os.path.exists(directory):\n",
    "        os.makedirs(directory)\n",
    "    "
   ]
  },
  {
   "cell_type": "markdown",
   "metadata": {},
   "source": [
    "Moving images into their respective folders by breed. "
   ]
  },
  {
   "cell_type": "code",
   "execution_count": 117,
   "metadata": {},
   "outputs": [],
   "source": [
    "for key in bigDict.keys():\n",
    "    for pid in bigDict[key]:\n",
    "        current = \"../../data/dogbreeds/train/\" + str(pid) + \".jpg\"\n",
    "        move = \"../../data/dogbreeds/train/\" + str(key) + \"/\" + str(pid) + \".jpg\"\n",
    "        os.rename(current, move)\n",
    "    "
   ]
  },
  {
   "cell_type": "markdown",
   "metadata": {},
   "source": [
    "Moving 10% of images from train to valid. "
   ]
  },
  {
   "cell_type": "code",
   "execution_count": 20,
   "metadata": {},
   "outputs": [],
   "source": [
    "for key in bigDict.keys():\n",
    "    length = (len(bigDict[key]))\n",
    "    target = (length//10)\n",
    "    for i in range(0, target):\n",
    "        pid = bigDict[key][i]\n",
    "        current = \"../../data/dogbreeds/train/\" + str(key) + \"/\" + str(pid) + \".jpg\"\n",
    "        move = \"../../data/dogbreeds/valid/\" + str(key) + \"/\" + str(pid) + \".jpg\"\n",
    "        os.rename(current, move)"
   ]
  },
  {
   "cell_type": "markdown",
   "metadata": {},
   "source": [
    "Delete ipynb_checkpoints in valid and training"
   ]
  },
  {
   "cell_type": "code",
   "execution_count": 18,
   "metadata": {},
   "outputs": [],
   "source": [
    "import shutil\n",
    "\n",
    "for key in bigDict.keys():\n",
    "    train = \"../../data/dogbreeds/train/\" + str(key) + \"/\" + \".ipynb_checkpoints\"\n",
    "    valid = \"../../data/dogbreeds/valid/\" + str(key) + \"/\" + \".ipynb_checkpoints\"\n",
    "    if os.path.exists(train):\n",
    "        shutil.rmtree(train)\n",
    "    if os.path.exists(valid):\n",
    "        shutil.rmtree(valid)"
   ]
  },
  {
   "cell_type": "markdown",
   "metadata": {},
   "source": [
    "Check through if our directories work"
   ]
  },
  {
   "cell_type": "code",
   "execution_count": 12,
   "metadata": {},
   "outputs": [
    {
     "data": {
      "text/plain": [
       "['0067dc3eab0b3c3ef0439477624d85d6.jpg',\n",
       " '015b363b062f602e7ec04ce28e640d05.jpg',\n",
       " '03b7320cf8054e57b499e01d1cde0644.jpg',\n",
       " '04254919cc15c6867cccfd738a926999.jpg',\n",
       " '03564fbb4aba93dd80e5c7cd76f28d28.jpg']"
      ]
     },
     "execution_count": 12,
     "metadata": {},
     "output_type": "execute_result"
    }
   ],
   "source": [
    "files = os.listdir(f'{PATH}valid/walker_hound')[:5]\n",
    "files"
   ]
  },
  {
   "cell_type": "code",
   "execution_count": 13,
   "metadata": {},
   "outputs": [
    {
     "data": {
      "image/png": "[encoded data removed]",
      "text/plain": [
       "<Figure size 432x288 with 1 Axes>"
      ]
     },
     "metadata": {
      "needs_background": "light"
     },
     "output_type": "display_data"
    }
   ],
   "source": [
    "img = plt.imread(f'{PATH}valid/walker_hound/{files[0]}')\n",
    "plt.imshow(img);"
   ]
  },
  {
   "cell_type": "markdown",
   "metadata": {},
   "source": [
    "### Training the neural network"
   ]
  },
  {
   "cell_type": "code",
   "execution_count": 23,
   "metadata": {},
   "outputs": [
    {
     "data": {
      "application/vnd.jupyter.widget-view+json": {
       "model_id": "56c3ac3ade7a401fac308421ec48c8d8",
       "version_major": 2,
       "version_minor": 0
      },
      "text/plain": [
       "HBox(children=(IntProgress(value=0, description='Epoch', max=5), HTML(value='')))"
      ]
     },
     "metadata": {},
     "output_type": "display_data"
    },
    {
     "name": "stdout",
     "output_type": "stream",
     "text": [
      "epoch      trn_loss   val_loss   accuracy   \n",
      "    0      1.910328   0.922873   0.804752  \n",
      "    1      0.988864   0.617924   0.839876  \n",
      "    2      0.751971   0.547298   0.854339  \n",
      "    3      0.625778   0.502486   0.846074  \n",
      "    4      0.582544   0.47715    0.850207  \n",
      "\n"
     ]
    },
    {
     "data": {
      "text/plain": [
       "[array([0.47715]), 0.8502066115702479]"
      ]
     },
     "execution_count": 23,
     "metadata": {},
     "output_type": "execute_result"
    }
   ],
   "source": [
    "arch=resnet34\n",
    "data = ImageClassifierData.from_paths(PATH, tfms=tfms_from_model(arch, sz))\n",
    "learn = ConvLearner.pretrained(arch, data, precompute=True)\n",
    "learn.fit(0.01, 5)"
   ]
  },
  {
   "cell_type": "markdown",
   "metadata": {},
   "source": [
    "Find the learning rate"
   ]
  },
  {
   "cell_type": "code",
   "execution_count": 24,
   "metadata": {},
   "outputs": [
    {
     "data": {
      "application/vnd.jupyter.widget-view+json": {
       "model_id": "2c035136f0f34fca8991a412cfc44bef",
       "version_major": 2,
       "version_minor": 0
      },
      "text/plain": [
       "HBox(children=(IntProgress(value=0, description='Epoch', max=1), HTML(value='')))"
      ]
     },
     "metadata": {},
     "output_type": "display_data"
    },
    {
     "name": "stdout",
     "output_type": "stream",
     "text": [
      " 82%|████████▏ | 119/145 [00:02<00:00, 51.11it/s, loss=0.881]\n"
     ]
    }
   ],
   "source": [
    "lrf=learn.lr_find()"
   ]
  },
  {
   "cell_type": "code",
   "execution_count": 25,
   "metadata": {},
   "outputs": [
    {
     "data": {
      "image/png": "[encoded data removed]",
      "text/plain": [
       "<Figure size 432x288 with 1 Axes>"
      ]
     },
     "metadata": {
      "needs_background": "light"
     },
     "output_type": "display_data"
    }
   ],
   "source": [
    "learn.sched.plot_lr()"
   ]
  },
  {
   "cell_type": "code",
   "execution_count": 26,
   "metadata": {},
   "outputs": [
    {
     "data": {
      "image/png": "[encoded data removed]",
      "text/plain": [
       "<Figure size 432x288 with 1 Axes>"
      ]
     },
     "metadata": {
      "needs_background": "light"
     },
     "output_type": "display_data"
    }
   ],
   "source": [
    "learn.sched.plot()"
   ]
  },
  {
   "cell_type": "markdown",
   "metadata": {},
   "source": [
    "We will use a learning rate at 0.03, since there's a little peak just before it on the graph above."
   ]
  },
  {
   "cell_type": "code",
   "execution_count": 27,
   "metadata": {},
   "outputs": [
    {
     "data": {
      "application/vnd.jupyter.widget-view+json": {
       "model_id": "879c65c9d4544068ac7db55e561eeef6",
       "version_major": 2,
       "version_minor": 0
      },
      "text/plain": [
       "HBox(children=(IntProgress(value=0, description='Epoch', max=3), HTML(value='')))"
      ]
     },
     "metadata": {},
     "output_type": "display_data"
    },
    {
     "name": "stdout",
     "output_type": "stream",
     "text": [
      "epoch      trn_loss   val_loss   accuracy   \n",
      "    0      0.607506   0.497965   0.832645  \n",
      "    1      0.514894   0.487466   0.847107  \n",
      "    2      0.456781   0.488147   0.84814   \n",
      "\n"
     ]
    },
    {
     "data": {
      "text/plain": [
       "[array([0.48815]), 0.8481404958677686]"
      ]
     },
     "execution_count": 27,
     "metadata": {},
     "output_type": "execute_result"
    }
   ],
   "source": [
    "learn.fit(0.03, 3)"
   ]
  },
  {
   "cell_type": "code",
   "execution_count": 28,
   "metadata": {},
   "outputs": [
    {
     "data": {
      "application/vnd.jupyter.widget-view+json": {
       "model_id": "427faf07406f4c798e2efcc76c5786e0",
       "version_major": 2,
       "version_minor": 0
      },
      "text/plain": [
       "HBox(children=(IntProgress(value=0, description='Epoch', max=10), HTML(value='')))"
      ]
     },
     "metadata": {},
     "output_type": "display_data"
    },
    {
     "name": "stdout",
     "output_type": "stream",
     "text": [
      "epoch      trn_loss   val_loss   accuracy   \n",
      "    0      0.390806   0.472285   0.849174  \n",
      "    1      0.355472   0.479572   0.859504  \n",
      "    2      0.326652   0.480554   0.840909  \n",
      "    3      0.297245   0.486793   0.853306  \n",
      "    4      0.28059    0.49581    0.859504  \n",
      "    5      0.241475   0.490651   0.850207  \n",
      "    6      0.225518   0.486288   0.868802  \n",
      "    7      0.22489    0.487836   0.858471  \n",
      "    8      0.200197   0.516172   0.856405  \n",
      "    9      0.198749   0.52453    0.84814   \n",
      "\n"
     ]
    },
    {
     "data": {
      "text/plain": [
       "[array([0.52453]), 0.8481404958677686]"
      ]
     },
     "execution_count": 28,
     "metadata": {},
     "output_type": "execute_result"
    }
   ],
   "source": [
    "learn.fit(0.03, 10) #try it with 10 epochs to see if accuracy improves"
   ]
  },
  {
   "cell_type": "markdown",
   "metadata": {},
   "source": [
    "We see that with this model, the peak is 0.868 and it varies between 0.84 to 0.86.<br/>\n",
    "Now we will try out data augmentation to see if the model improves."
   ]
  },
  {
   "cell_type": "code",
   "execution_count": 29,
   "metadata": {},
   "outputs": [],
   "source": [
    "tfms = tfms_from_model(resnet34, sz, aug_tfms=transforms_side_on, max_zoom=1.1)"
   ]
  },
  {
   "cell_type": "code",
   "execution_count": 30,
   "metadata": {},
   "outputs": [],
   "source": [
    "data = ImageClassifierData.from_paths(PATH, tfms=tfms)\n",
    "learn = ConvLearner.pretrained(arch, data, precompute=True)"
   ]
  },
  {
   "cell_type": "code",
   "execution_count": 31,
   "metadata": {},
   "outputs": [
    {
     "data": {
      "application/vnd.jupyter.widget-view+json": {
       "model_id": "d21117d540ea456e99860899be740e5b",
       "version_major": 2,
       "version_minor": 0
      },
      "text/plain": [
       "HBox(children=(IntProgress(value=0, description='Epoch', max=6), HTML(value='')))"
      ]
     },
     "metadata": {},
     "output_type": "display_data"
    },
    {
     "name": "stdout",
     "output_type": "stream",
     "text": [
      "epoch      trn_loss   val_loss   accuracy   \n",
      "    0      1.204501   0.554225   0.853306  \n",
      "    1      0.749497   0.500402   0.840909  \n",
      "    2      0.592555   0.477399   0.853306  \n",
      "    3      0.488626   0.457251   0.862603  \n",
      "    4      0.432303   0.459219   0.855372  \n",
      "    5      0.384757   0.445965   0.871901  \n",
      "\n"
     ]
    },
    {
     "data": {
      "text/plain": [
       "[array([0.44597]), 0.871900826446281]"
      ]
     },
     "execution_count": 31,
     "metadata": {},
     "output_type": "execute_result"
    }
   ],
   "source": [
    "learn.fit(0.03, 6)"
   ]
  },
  {
   "cell_type": "markdown",
   "metadata": {},
   "source": [
    "We update only the last layer of the neural net and test the new model."
   ]
  },
  {
   "cell_type": "code",
   "execution_count": 33,
   "metadata": {},
   "outputs": [
    {
     "data": {
      "application/vnd.jupyter.widget-view+json": {
       "model_id": "4dc4f322615d42098beb43c850c9dc21",
       "version_major": 2,
       "version_minor": 0
      },
      "text/plain": [
       "HBox(children=(IntProgress(value=0, description='Epoch', max=3), HTML(value='')))"
      ]
     },
     "metadata": {},
     "output_type": "display_data"
    },
    {
     "name": "stdout",
     "output_type": "stream",
     "text": [
      "epoch      trn_loss   val_loss   accuracy   \n",
      "    0      0.467478   0.438961   0.871901  \n",
      "    1      0.459202   0.434603   0.867769  \n",
      "    2      0.451734   0.431432   0.866736  \n",
      "\n"
     ]
    },
    {
     "data": {
      "text/plain": [
       "[array([0.43143]), 0.8667355371900827]"
      ]
     },
     "execution_count": 33,
     "metadata": {},
     "output_type": "execute_result"
    }
   ],
   "source": [
    "learn.precompute=False\n",
    "learn.fit(0.03, 3, cycle_len=1)"
   ]
  },
  {
   "cell_type": "markdown",
   "metadata": {},
   "source": [
    "We see that this has slightly higher accuracy then previous model. <br/>\n",
    "Then, we save the last layer"
   ]
  },
  {
   "cell_type": "code",
   "execution_count": 34,
   "metadata": {},
   "outputs": [],
   "source": [
    "learn.save('lastlayer_all')"
   ]
  },
  {
   "cell_type": "markdown",
   "metadata": {},
   "source": [
    "### Apply our Neural Net to Test Dataset"
   ]
  },
  {
   "cell_type": "markdown",
   "metadata": {},
   "source": [
    "Rewrite data so we can have the test_ds.fnames variable"
   ]
  },
  {
   "cell_type": "code",
   "execution_count": 39,
   "metadata": {},
   "outputs": [
    {
     "data": {
      "text/plain": [
       "['test/f1705303b30da3a48db2a5f34376b947.jpg',\n",
       " 'test/a9b79809bc1301f8d148e15bfecf6485.jpg',\n",
       " 'test/cc94a3bb7191a247f59e1540d8430c93.jpg',\n",
       " 'test/f7b489a38302afc010d8a386a1b7d085.jpg',\n",
       " 'test/6e21c96226078576342ca66e25eb1aa9.jpg',\n",
       " 'test/f16eed64196d24c423f0a68d7ebf287d.jpg',\n",
       " 'test/635f438cd68b65dd6b4e100b338015fd.jpg',\n",
       " 'test/b827855f566b9569fd668d990854ad0b.jpg',\n",
       " 'test/5d1e83adfaac47f754f16021615fc8bf.jpg',\n",
       " 'test/8a08c0b0d4554a270f66f2f16278ee70.jpg']"
      ]
     },
     "execution_count": 39,
     "metadata": {},
     "output_type": "execute_result"
    }
   ],
   "source": [
    "data = ImageClassifierData.from_paths(PATH, tfms=tfms_from_model(arch, sz),\n",
    "                                      test_name=\"test\")\n",
    "data.test_ds.fnames[:10]"
   ]
  },
  {
   "cell_type": "markdown",
   "metadata": {},
   "source": [
    "Learn the model with new data"
   ]
  },
  {
   "cell_type": "code",
   "execution_count": 41,
   "metadata": {},
   "outputs": [
    {
     "name": "stdout",
     "output_type": "stream",
     "text": [
      "100%|██████████| 162/162 [00:59<00:00,  1.55it/s]\n"
     ]
    }
   ],
   "source": [
    "learn = ConvLearner.pretrained(arch, data, precompute=True)"
   ]
  },
  {
   "cell_type": "code",
   "execution_count": 45,
   "metadata": {},
   "outputs": [
    {
     "data": {
      "application/vnd.jupyter.widget-view+json": {
       "model_id": "b68a89e4bbf2450dbbbc9f7bb1114846",
       "version_major": 2,
       "version_minor": 0
      },
      "text/plain": [
       "HBox(children=(IntProgress(value=0, description='Epoch', max=3), HTML(value='')))"
      ]
     },
     "metadata": {},
     "output_type": "display_data"
    },
    {
     "name": "stdout",
     "output_type": "stream",
     "text": [
      "epoch      trn_loss   val_loss   accuracy   \n",
      "    0      0.494233   0.456126   0.85124   \n",
      "    1      0.429466   0.469606   0.845041  \n",
      "    2      0.398015   0.461725   0.857438  \n",
      "\n"
     ]
    },
    {
     "data": {
      "text/plain": [
       "[array([0.46173]), 0.8574380165289256]"
      ]
     },
     "execution_count": 45,
     "metadata": {},
     "output_type": "execute_result"
    }
   ],
   "source": [
    "learn.fit(0.03, 3)"
   ]
  },
  {
   "cell_type": "code",
   "execution_count": 46,
   "metadata": {},
   "outputs": [],
   "source": [
    "log_preds, y = learn.predict_with_targs(is_test=True)\n",
    "probs = np.exp(log_preds)"
   ]
  },
  {
   "cell_type": "code",
   "execution_count": 67,
   "metadata": {},
   "outputs": [
    {
     "data": {
      "text/plain": [
       "(10357, 120)"
      ]
     },
     "execution_count": 67,
     "metadata": {},
     "output_type": "execute_result"
    }
   ],
   "source": [
    "probs.shape"
   ]
  },
  {
   "cell_type": "markdown",
   "metadata": {},
   "source": [
    "Create a csv file to save the predictions in."
   ]
  },
  {
   "cell_type": "code",
   "execution_count": 73,
   "metadata": {},
   "outputs": [],
   "source": [
    "df = pd.DataFrame(probs[:,:])\n",
    "df.columns = sorted(bigDict.keys())"
   ]
  },
  {
   "cell_type": "code",
   "execution_count": 74,
   "metadata": {},
   "outputs": [],
   "source": [
    "df.insert(0, 'id', [o[5:-4] for o in data.test_ds.fnames])"
   ]
  },
  {
   "cell_type": "code",
   "execution_count": 75,
   "metadata": {},
   "outputs": [
    {
     "data": {
      "text/html": [
       "<div>\n",
       "<style scoped>\n",
       "    .dataframe tbody tr th:only-of-type {\n",
       "        vertical-align: middle;\n",
       "    }\n",
       "\n",
       "    .dataframe tbody tr th {\n",
       "        vertical-align: top;\n",
       "    }\n",
       "\n",
       "    .dataframe thead th {\n",
       "        text-align: right;\n",
       "    }\n",
       "</style>\n",
       "<table border=\"1\" class=\"dataframe\">\n",
       "  <thead>\n",
       "    <tr style=\"text-align: right;\">\n",
       "      <th></th>\n",
       "      <th>id</th>\n",
       "      <th>affenpinscher</th>\n",
       "      <th>afghan_hound</th>\n",
       "      <th>african_hunting_dog</th>\n",
       "      <th>airedale</th>\n",
       "      <th>american_staffordshire_terrier</th>\n",
       "      <th>appenzeller</th>\n",
       "      <th>australian_terrier</th>\n",
       "      <th>basenji</th>\n",
       "      <th>basset</th>\n",
       "      <th>...</th>\n",
       "      <th>toy_poodle</th>\n",
       "      <th>toy_terrier</th>\n",
       "      <th>vizsla</th>\n",
       "      <th>walker_hound</th>\n",
       "      <th>weimaraner</th>\n",
       "      <th>welsh_springer_spaniel</th>\n",
       "      <th>west_highland_white_terrier</th>\n",
       "      <th>whippet</th>\n",
       "      <th>wire-haired_fox_terrier</th>\n",
       "      <th>yorkshire_terrier</th>\n",
       "    </tr>\n",
       "  </thead>\n",
       "  <tbody>\n",
       "    <tr>\n",
       "      <th>0</th>\n",
       "      <td>f1705303b30da3a48db2a5f34376b947</td>\n",
       "      <td>5.555785e-08</td>\n",
       "      <td>5.225971e-06</td>\n",
       "      <td>5.287013e-06</td>\n",
       "      <td>5.579778e-05</td>\n",
       "      <td>2.511829e-05</td>\n",
       "      <td>4.958300e-07</td>\n",
       "      <td>2.175696e-07</td>\n",
       "      <td>6.767115e-08</td>\n",
       "      <td>5.233302e-08</td>\n",
       "      <td>...</td>\n",
       "      <td>4.587970e-07</td>\n",
       "      <td>7.305449e-08</td>\n",
       "      <td>3.768059e-02</td>\n",
       "      <td>4.865425e-06</td>\n",
       "      <td>9.100564e-01</td>\n",
       "      <td>1.042503e-07</td>\n",
       "      <td>4.939250e-08</td>\n",
       "      <td>5.445872e-05</td>\n",
       "      <td>1.940542e-08</td>\n",
       "      <td>9.974800e-08</td>\n",
       "    </tr>\n",
       "    <tr>\n",
       "      <th>1</th>\n",
       "      <td>a9b79809bc1301f8d148e15bfecf6485</td>\n",
       "      <td>2.387976e-04</td>\n",
       "      <td>3.277510e-06</td>\n",
       "      <td>6.048497e-05</td>\n",
       "      <td>3.250494e-06</td>\n",
       "      <td>5.576019e-06</td>\n",
       "      <td>1.432715e-04</td>\n",
       "      <td>4.138503e-05</td>\n",
       "      <td>1.377809e-06</td>\n",
       "      <td>3.111324e-05</td>\n",
       "      <td>...</td>\n",
       "      <td>4.507748e-05</td>\n",
       "      <td>5.674780e-05</td>\n",
       "      <td>2.834180e-06</td>\n",
       "      <td>2.860520e-04</td>\n",
       "      <td>4.961612e-05</td>\n",
       "      <td>6.773714e-06</td>\n",
       "      <td>6.713468e-03</td>\n",
       "      <td>3.575592e-06</td>\n",
       "      <td>5.773440e-06</td>\n",
       "      <td>2.604240e-06</td>\n",
       "    </tr>\n",
       "    <tr>\n",
       "      <th>2</th>\n",
       "      <td>cc94a3bb7191a247f59e1540d8430c93</td>\n",
       "      <td>4.569387e-05</td>\n",
       "      <td>2.672956e-05</td>\n",
       "      <td>9.958224e-06</td>\n",
       "      <td>1.700333e-05</td>\n",
       "      <td>1.722867e-06</td>\n",
       "      <td>1.256406e-02</td>\n",
       "      <td>1.905265e-05</td>\n",
       "      <td>5.582388e-06</td>\n",
       "      <td>2.600331e-06</td>\n",
       "      <td>...</td>\n",
       "      <td>2.373899e-05</td>\n",
       "      <td>1.242249e-06</td>\n",
       "      <td>2.370823e-06</td>\n",
       "      <td>7.453410e-06</td>\n",
       "      <td>9.287456e-07</td>\n",
       "      <td>2.778770e-05</td>\n",
       "      <td>6.704650e-06</td>\n",
       "      <td>5.040491e-07</td>\n",
       "      <td>3.972234e-06</td>\n",
       "      <td>1.608229e-05</td>\n",
       "    </tr>\n",
       "    <tr>\n",
       "      <th>3</th>\n",
       "      <td>f7b489a38302afc010d8a386a1b7d085</td>\n",
       "      <td>9.849969e-07</td>\n",
       "      <td>3.829823e-07</td>\n",
       "      <td>1.268582e-07</td>\n",
       "      <td>3.644075e-07</td>\n",
       "      <td>4.927984e-07</td>\n",
       "      <td>1.579193e-02</td>\n",
       "      <td>4.089266e-07</td>\n",
       "      <td>1.357407e-06</td>\n",
       "      <td>1.009061e-06</td>\n",
       "      <td>...</td>\n",
       "      <td>2.464604e-07</td>\n",
       "      <td>1.690351e-08</td>\n",
       "      <td>9.324637e-08</td>\n",
       "      <td>2.077138e-06</td>\n",
       "      <td>1.107292e-07</td>\n",
       "      <td>1.744992e-06</td>\n",
       "      <td>7.104276e-08</td>\n",
       "      <td>8.110197e-08</td>\n",
       "      <td>2.889216e-08</td>\n",
       "      <td>2.530137e-07</td>\n",
       "    </tr>\n",
       "    <tr>\n",
       "      <th>4</th>\n",
       "      <td>6e21c96226078576342ca66e25eb1aa9</td>\n",
       "      <td>1.710507e-04</td>\n",
       "      <td>1.210962e-05</td>\n",
       "      <td>4.882670e-06</td>\n",
       "      <td>1.941545e-05</td>\n",
       "      <td>3.711567e-07</td>\n",
       "      <td>5.404265e-07</td>\n",
       "      <td>5.426456e-07</td>\n",
       "      <td>1.377164e-07</td>\n",
       "      <td>5.883668e-08</td>\n",
       "      <td>...</td>\n",
       "      <td>3.898665e-07</td>\n",
       "      <td>4.042787e-08</td>\n",
       "      <td>2.469982e-06</td>\n",
       "      <td>4.879158e-07</td>\n",
       "      <td>8.922333e-06</td>\n",
       "      <td>1.156762e-07</td>\n",
       "      <td>2.263589e-06</td>\n",
       "      <td>2.242700e-05</td>\n",
       "      <td>2.310027e-06</td>\n",
       "      <td>9.325065e-06</td>\n",
       "    </tr>\n",
       "  </tbody>\n",
       "</table>\n",
       "<p>5 rows × 121 columns</p>\n",
       "</div>"
      ],
      "text/plain": [
       "                                 id  affenpinscher  afghan_hound  \\\n",
       "0  f1705303b30da3a48db2a5f34376b947   5.555785e-08  5.225971e-06   \n",
       "1  a9b79809bc1301f8d148e15bfecf6485   2.387976e-04  3.277510e-06   \n",
       "2  cc94a3bb7191a247f59e1540d8430c93   4.569387e-05  2.672956e-05   \n",
       "3  f7b489a38302afc010d8a386a1b7d085   9.849969e-07  3.829823e-07   \n",
       "4  6e21c96226078576342ca66e25eb1aa9   1.710507e-04  1.210962e-05   \n",
       "\n",
       "   african_hunting_dog      airedale  american_staffordshire_terrier  \\\n",
       "0         5.287013e-06  5.579778e-05                    2.511829e-05   \n",
       "1         6.048497e-05  3.250494e-06                    5.576019e-06   \n",
       "2         9.958224e-06  1.700333e-05                    1.722867e-06   \n",
       "3         1.268582e-07  3.644075e-07                    4.927984e-07   \n",
       "4         4.882670e-06  1.941545e-05                    3.711567e-07   \n",
       "\n",
       "    appenzeller  australian_terrier       basenji        basset  \\\n",
       "0  4.958300e-07        2.175696e-07  6.767115e-08  5.233302e-08   \n",
       "1  1.432715e-04        4.138503e-05  1.377809e-06  3.111324e-05   \n",
       "2  1.256406e-02        1.905265e-05  5.582388e-06  2.600331e-06   \n",
       "3  1.579193e-02        4.089266e-07  1.357407e-06  1.009061e-06   \n",
       "4  5.404265e-07        5.426456e-07  1.377164e-07  5.883668e-08   \n",
       "\n",
       "         ...            toy_poodle   toy_terrier        vizsla  walker_hound  \\\n",
       "0        ...          4.587970e-07  7.305449e-08  3.768059e-02  4.865425e-06   \n",
       "1        ...          4.507748e-05  5.674780e-05  2.834180e-06  2.860520e-04   \n",
       "2        ...          2.373899e-05  1.242249e-06  2.370823e-06  7.453410e-06   \n",
       "3        ...          2.464604e-07  1.690351e-08  9.324637e-08  2.077138e-06   \n",
       "4        ...          3.898665e-07  4.042787e-08  2.469982e-06  4.879158e-07   \n",
       "\n",
       "     weimaraner  welsh_springer_spaniel  west_highland_white_terrier  \\\n",
       "0  9.100564e-01            1.042503e-07                 4.939250e-08   \n",
       "1  4.961612e-05            6.773714e-06                 6.713468e-03   \n",
       "2  9.287456e-07            2.778770e-05                 6.704650e-06   \n",
       "3  1.107292e-07            1.744992e-06                 7.104276e-08   \n",
       "4  8.922333e-06            1.156762e-07                 2.263589e-06   \n",
       "\n",
       "        whippet  wire-haired_fox_terrier  yorkshire_terrier  \n",
       "0  5.445872e-05             1.940542e-08       9.974800e-08  \n",
       "1  3.575592e-06             5.773440e-06       2.604240e-06  \n",
       "2  5.040491e-07             3.972234e-06       1.608229e-05  \n",
       "3  8.110197e-08             2.889216e-08       2.530137e-07  \n",
       "4  2.242700e-05             2.310027e-06       9.325065e-06  \n",
       "\n",
       "[5 rows x 121 columns]"
      ]
     },
     "execution_count": 75,
     "metadata": {},
     "output_type": "execute_result"
    }
   ],
   "source": [
    "df.head()"
   ]
  },
  {
   "cell_type": "markdown",
   "metadata": {},
   "source": [
    "Export data frame to csv"
   ]
  },
  {
   "cell_type": "code",
   "execution_count": 76,
   "metadata": {},
   "outputs": [],
   "source": [
    "SUBM = f'../../out/'\n",
    "os.makedirs(SUBM, exist_ok=True)\n",
    "df.to_csv(f'{SUBM}dogbreeds.gz', compression='gzip', index=False)"
   ]
  },
  {
   "cell_type": "markdown",
   "metadata": {},
   "source": [
    "#### Result for Kaggle submission<br/>\n",
    "![](DogBreedSubmission.png)"
   ]
  },
  {
   "cell_type": "code",
   "execution_count": null,
   "metadata": {},
   "outputs": [],
   "source": []
  }
 ],
 "metadata": {
  "kernelspec": {
   "display_name": "Python 3",
   "language": "python",
   "name": "python3"
  },
  "language_info": {
   "codemirror_mode": {
    "name": "ipython",
    "version": 3
   },
   "file_extension": ".py",
   "mimetype": "text/x-python",
   "name": "python",
   "nbconvert_exporter": "python",
   "pygments_lexer": "ipython3",
   "version": "3.6.6"
  }
 },
 "nbformat": 4,
 "nbformat_minor": 2
}
